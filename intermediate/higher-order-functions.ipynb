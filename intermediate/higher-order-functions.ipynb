{
 "cells": [
  {
   "cell_type": "markdown",
   "metadata": {},
   "source": [
    "## Higher order functions"
   ]
  },
  {
   "cell_type": "markdown",
   "metadata": {},
   "source": [
    "A higher-order function is a function that takes other functions as arguments or returns a function as result."
   ]
  },
  {
   "cell_type": "markdown",
   "metadata": {},
   "source": [
    "### Fixed points"
   ]
  },
  {
   "cell_type": "markdown",
   "metadata": {},
   "source": [
    "A fixed point of a function is an element of the function's domain that is mapped to itself by the function.\n",
    "\n",
    "$$ x,\\;f(x),\\;f \\circ f(x),\\;f \\circ f \\circ f(x),\\;... \\rightarrow x^*$$\n",
    "\n",
    "Let's write a `Julia` function that finds the fixed point of some function `f`"
   ]
  },
  {
   "cell_type": "code",
   "execution_count": null,
   "metadata": {},
   "outputs": [],
   "source": [
    "# Identity operator\n",
    "const id = x -> x"
   ]
  },
  {
   "cell_type": "code",
   "execution_count": null,
   "metadata": {
    "scrolled": true
   },
   "outputs": [],
   "source": [
    "# Ideally... Why will it fail?\n",
    "function fixed_point(f::Function)\n",
    "    fix(x) = f ∘ fix(x)\n",
    "    return x -> fix(x)\n",
    "end\n",
    "\n",
    "# g = fixed_point(id)\n",
    "# g(3)"
   ]
  },
  {
   "cell_type": "code",
   "execution_count": null,
   "metadata": {
    "scrolled": true
   },
   "outputs": [],
   "source": [
    "# Need a stopping criteria\n",
    "function fixed_point(f::Function)\n",
    "    function fix(xᵢ)\n",
    "        xᵢ₊₁ = f(xᵢ)\n",
    "        if xᵢ₊₁ == xᵢ\n",
    "            return xᵢ\n",
    "        else\n",
    "            return fix(xᵢ₊₁)\n",
    "        end\n",
    "    end\n",
    "    return fix\n",
    "end\n",
    "\n",
    "# g = fixed_point(id)\n",
    "# g(3)\n",
    "\n",
    "# TODO: Write this function as a 1-liner!"
   ]
  },
  {
   "cell_type": "code",
   "execution_count": null,
   "metadata": {},
   "outputs": [],
   "source": [
    "# The equality condition is too strict for computations! Change it for an approximation (\\approx)\n",
    "fixed_point(f::Function) = return fix(xᵢ) = (xᵢ₊₁ = f(xᵢ)) ≈ xᵢ ? xᵢ : fix(xᵢ₊₁)\n",
    "\n",
    "# g = fixed_point(id)\n",
    "# g(3)"
   ]
  },
  {
   "cell_type": "code",
   "execution_count": null,
   "metadata": {
    "scrolled": true
   },
   "outputs": [],
   "source": [
    "# Kondo poor-man's scaling equations\n",
    "kondo_rg_eqs(x; dk=-10^-3) = x .+ dk * [-2 * x[2]^2, -2 * x[1] * x[2]]\n",
    "kondo_rg = fixed_point(kondo_rg_eqs)"
   ]
  },
  {
   "cell_type": "code",
   "execution_count": null,
   "metadata": {
    "scrolled": false
   },
   "outputs": [],
   "source": [
    "import Plots: plot\n",
    "dj = 0.06\n",
    "ps = hcat([[[jz, j₊] ; kondo_rg([jz, j₊])] for j₊ in 0.0:dj:1.0 for jz in -dj-j₊:-dj:-1.0]...)\n",
    "plot(ps[[1,3],:], ps[[2,4],:], xlims = (-1,dj), ylims=(-dj,1), framestyle = :origin, legend=false)"
   ]
  },
  {
   "cell_type": "code",
   "execution_count": null,
   "metadata": {},
   "outputs": [],
   "source": [
    "# Another example\n",
    "logistic_map(r) = fixed_point(x -> r * x * (1-x))"
   ]
  },
  {
   "cell_type": "markdown",
   "metadata": {},
   "source": [
    "### Folding"
   ]
  },
  {
   "cell_type": "code",
   "execution_count": null,
   "metadata": {},
   "outputs": [],
   "source": []
  }
 ],
 "metadata": {
  "kernelspec": {
   "display_name": "Julia 1.3.0",
   "language": "julia",
   "name": "julia-1.3"
  },
  "language_info": {
   "file_extension": ".jl",
   "mimetype": "application/julia",
   "name": "julia",
   "version": "1.3.0"
  }
 },
 "nbformat": 4,
 "nbformat_minor": 4
}
